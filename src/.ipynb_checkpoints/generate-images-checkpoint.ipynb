{
 "cells": [
  {
   "cell_type": "code",
   "execution_count": 1,
   "metadata": {},
   "outputs": [],
   "source": [
    "import os\n",
    "import torch\n",
    "import numpy as np\n",
    "from pytorch3d.renderer import PerspectiveCameras, BlendParams, RasterizationSettings, MeshRenderer, MeshRasterizer, SoftSilhouetteShader, Textures\n",
    "from pytorch3d.io import load_obj, save_obj\n",
    "from pytorch3d.structures import Meshes, join_meshes_as_scene, join_meshes_as_batch\n",
    "from mpl_toolkits.mplot3d import Axes3D\n",
    "from pytorch3d.ops import sample_points_from_meshes\n",
    "import matplotlib.pyplot as plt\n",
    "import matplotlib as mpl\n",
    "import pytorch3d"
   ]
  },
  {
   "cell_type": "code",
   "execution_count": 2,
   "metadata": {
    "collapsed": false,
    "jupyter": {
     "outputs_hidden": false
    }
   },
   "outputs": [
    {
     "name": "stdout",
     "output_type": "stream",
     "text": [
      "WARNING: CPU only, this will be slow!\n"
     ]
    }
   ],
   "source": [
    "# Set the device\n",
    "if torch.cuda.is_available():\n",
    "\tdevice = torch.device(\"cuda:0\")\n",
    "else:\n",
    "\tdevice = torch.device(\"cpu\")\n",
    "\tprint(\"WARNING: CPU only, this will be slow!\")\n"
   ]
  },
  {
   "cell_type": "markdown",
   "metadata": {
    "collapsed": false,
    "jupyter": {
     "outputs_hidden": false
    }
   },
   "source": [
    "### Get all mesh files"
   ]
  },
  {
   "cell_type": "code",
   "execution_count": 3,
   "metadata": {
    "collapsed": false,
    "jupyter": {
     "outputs_hidden": false
    }
   },
   "outputs": [],
   "source": [
    "base_dir = \"/home/sscekic/master-thesis/src\"\n",
    "mesh_files = [os.path.join(base_dir, \"urdfs/meshes/visual/link0/link0.obj\"),\n",
    "\t\t\t  os.path.join(base_dir, \"urdfs/meshes/visual/link1/link1.obj\"),\n",
    "\t\t\t  os.path.join(base_dir, \"urdfs/meshes/visual/link2/link2.obj\"),\n",
    "\t\t\t  os.path.join(base_dir, \"urdfs/meshes/visual/link3/link3.obj\"),\n",
    "\t\t\t  os.path.join(base_dir, \"urdfs/meshes/visual/link4/link4.obj\"),\n",
    "\t\t\t  os.path.join(base_dir, \"urdfs/meshes/visual/link5/link5.obj\"),\n",
    "\t\t\t  os.path.join(base_dir, \"urdfs/meshes/visual/link6/link6.obj\"),\n",
    "\t\t\t  os.path.join(base_dir, \"urdfs/meshes/visual/link7/link7.obj\"),\n",
    "\t\t\t  os.path.join(base_dir, \"urdfs/meshes/visual/hand/hand.obj\")\n",
    "\t\t\t  ]"
   ]
  },
  {
   "cell_type": "markdown",
   "metadata": {
    "collapsed": false,
    "jupyter": {
     "outputs_hidden": false
    }
   },
   "source": [
    "### Load all mesh files into objects"
   ]
  },
  {
   "cell_type": "code",
   "execution_count": 4,
   "metadata": {
    "collapsed": false,
    "jupyter": {
     "outputs_hidden": false
    },
    "pycharm": {
     "is_executing": true
    }
   },
   "outputs": [
    {
     "name": "stderr",
     "output_type": "stream",
     "text": [
      "An exception occurred in telemetry logging.Disabling telemetry to prevent further exceptions.\n",
      "Traceback (most recent call last):\n",
      "  File \"/home/sscekic/anaconda3/envs/nerf/lib/python3.12/site-packages/iopath/common/file_io.py\", line 946, in __log_tmetry_keys\n",
      "    handler.log_event()\n",
      "  File \"/home/sscekic/anaconda3/envs/nerf/lib/python3.12/site-packages/iopath/common/event_logger.py\", line 97, in log_event\n",
      "    del self._evt\n",
      "        ^^^^^^^^^\n",
      "AttributeError: 'NativePathHandler' object has no attribute '_evt'\n",
      "An exception occurred in telemetry logging.Disabling telemetry to prevent further exceptions.\n",
      "Traceback (most recent call last):\n",
      "  File \"/home/sscekic/anaconda3/envs/nerf/lib/python3.12/site-packages/iopath/common/file_io.py\", line 946, in __log_tmetry_keys\n",
      "    handler.log_event()\n",
      "  File \"/home/sscekic/anaconda3/envs/nerf/lib/python3.12/site-packages/iopath/common/event_logger.py\", line 97, in log_event\n",
      "    del self._evt\n",
      "        ^^^^^^^^^\n",
      "AttributeError: 'NativePathHandler' object has no attribute '_evt'\n",
      "An exception occurred in telemetry logging.Disabling telemetry to prevent further exceptions.\n",
      "Traceback (most recent call last):\n",
      "  File \"/home/sscekic/anaconda3/envs/nerf/lib/python3.12/site-packages/iopath/common/file_io.py\", line 946, in __log_tmetry_keys\n",
      "    handler.log_event()\n",
      "  File \"/home/sscekic/anaconda3/envs/nerf/lib/python3.12/site-packages/iopath/common/event_logger.py\", line 97, in log_event\n",
      "    del self._evt\n",
      "        ^^^^^^^^^\n",
      "AttributeError: 'NativePathHandler' object has no attribute '_evt'\n",
      "An exception occurred in telemetry logging.Disabling telemetry to prevent further exceptions.\n",
      "Traceback (most recent call last):\n",
      "  File \"/home/sscekic/anaconda3/envs/nerf/lib/python3.12/site-packages/iopath/common/file_io.py\", line 946, in __log_tmetry_keys\n",
      "    handler.log_event()\n",
      "  File \"/home/sscekic/anaconda3/envs/nerf/lib/python3.12/site-packages/iopath/common/event_logger.py\", line 97, in log_event\n",
      "    del self._evt\n",
      "        ^^^^^^^^^\n",
      "AttributeError: 'NativePathHandler' object has no attribute '_evt'\n",
      "An exception occurred in telemetry logging.Disabling telemetry to prevent further exceptions.\n",
      "Traceback (most recent call last):\n",
      "  File \"/home/sscekic/anaconda3/envs/nerf/lib/python3.12/site-packages/iopath/common/file_io.py\", line 946, in __log_tmetry_keys\n",
      "    handler.log_event()\n",
      "  File \"/home/sscekic/anaconda3/envs/nerf/lib/python3.12/site-packages/iopath/common/event_logger.py\", line 97, in log_event\n",
      "    del self._evt\n",
      "        ^^^^^^^^^\n",
      "AttributeError: 'NativePathHandler' object has no attribute '_evt'\n",
      "An exception occurred in telemetry logging.Disabling telemetry to prevent further exceptions.\n",
      "Traceback (most recent call last):\n",
      "  File \"/home/sscekic/anaconda3/envs/nerf/lib/python3.12/site-packages/iopath/common/file_io.py\", line 946, in __log_tmetry_keys\n",
      "    handler.log_event()\n",
      "  File \"/home/sscekic/anaconda3/envs/nerf/lib/python3.12/site-packages/iopath/common/event_logger.py\", line 97, in log_event\n",
      "    del self._evt\n",
      "        ^^^^^^^^^\n",
      "AttributeError: 'NativePathHandler' object has no attribute '_evt'\n",
      "An exception occurred in telemetry logging.Disabling telemetry to prevent further exceptions.\n",
      "Traceback (most recent call last):\n",
      "  File \"/home/sscekic/anaconda3/envs/nerf/lib/python3.12/site-packages/iopath/common/file_io.py\", line 946, in __log_tmetry_keys\n",
      "    handler.log_event()\n",
      "  File \"/home/sscekic/anaconda3/envs/nerf/lib/python3.12/site-packages/iopath/common/event_logger.py\", line 97, in log_event\n",
      "    del self._evt\n",
      "        ^^^^^^^^^\n",
      "AttributeError: 'NativePathHandler' object has no attribute '_evt'\n",
      "An exception occurred in telemetry logging.Disabling telemetry to prevent further exceptions.\n",
      "Traceback (most recent call last):\n",
      "  File \"/home/sscekic/anaconda3/envs/nerf/lib/python3.12/site-packages/iopath/common/file_io.py\", line 946, in __log_tmetry_keys\n",
      "    handler.log_event()\n",
      "  File \"/home/sscekic/anaconda3/envs/nerf/lib/python3.12/site-packages/iopath/common/event_logger.py\", line 97, in log_event\n",
      "    del self._evt\n",
      "        ^^^^^^^^^\n",
      "AttributeError: 'NativePathHandler' object has no attribute '_evt'\n",
      "An exception occurred in telemetry logging.Disabling telemetry to prevent further exceptions.\n",
      "Traceback (most recent call last):\n",
      "  File \"/home/sscekic/anaconda3/envs/nerf/lib/python3.12/site-packages/iopath/common/file_io.py\", line 946, in __log_tmetry_keys\n",
      "    handler.log_event()\n",
      "  File \"/home/sscekic/anaconda3/envs/nerf/lib/python3.12/site-packages/iopath/common/event_logger.py\", line 97, in log_event\n",
      "    del self._evt\n",
      "        ^^^^^^^^^\n",
      "AttributeError: 'NativePathHandler' object has no attribute '_evt'\n"
     ]
    }
   ],
   "source": [
    "from os.path import exists\n",
    "\n",
    "verts = []\n",
    "faces = []\n",
    "for m_file in mesh_files:\n",
    "\tassert exists(m_file)\n",
    "\tpreload_verts_i, preload_faces_idx_i, _ = load_obj(m_file)\n",
    "\tpreload_faces_i = preload_faces_idx_i.verts_idx\n",
    "\tverts.append(preload_verts_i)\n",
    "\tfaces.append(preload_faces_i)"
   ]
  },
  {
   "cell_type": "markdown",
   "metadata": {
    "collapsed": false,
    "jupyter": {
     "outputs_hidden": false
    }
   },
   "source": [
    "### Setup cameras and renderer"
   ]
  },
  {
   "cell_type": "code",
   "execution_count": 5,
   "metadata": {
    "collapsed": false,
    "jupyter": {
     "outputs_hidden": false
    }
   },
   "outputs": [],
   "source": [
    "\n",
    "from pytorch3d.renderer import FoVPerspectiveCameras\n",
    "\n",
    "focal_length = [960.41357421875, 960.22314453125]\n",
    "principal_point = [1021.7171020507812, 776.2381591796875]\n",
    "image_size = [1536, 2048]\n",
    "# cameras = PerspectiveCameras(focal_length=focal_length,\n",
    "#\t\t\t\t\t\t\t principal_point=principal_point,\n",
    "#\t\t\t\t\t\t\t device=device,\n",
    "#\t\t\t\t\t\t\t in_ndc=False, image_size=image_size)\n",
    "\n",
    "cameras = FoVPerspectiveCameras(device=device)\n",
    "\n",
    "blend_params = BlendParams(sigma=1e-8, gamma=1e-8)\n",
    "raster_settings = RasterizationSettings(\n",
    "\timage_size=image_size,\n",
    "\tblur_radius=np.log(1. / 1e-4 - 1.) * blend_params.sigma,\n",
    "\tfaces_per_pixel=100,\n",
    "\tmax_faces_per_bin=100000,  # max_faces_per_bin=1000000,\n",
    ")\n",
    "\n",
    "silhouette_renderer = MeshRenderer(\n",
    "\trasterizer=MeshRasterizer(\n",
    "\t\tcameras=cameras,\n",
    "\t\traster_settings=raster_settings\n",
    "\t),\n",
    "\tshader=SoftSilhouetteShader(blend_params=blend_params)\n",
    ")"
   ]
  },
  {
   "cell_type": "markdown",
   "metadata": {
    "collapsed": false,
    "jupyter": {
     "outputs_hidden": false
    }
   },
   "source": [
    "### Define function for getting rotation and translation matrix"
   ]
  },
  {
   "cell_type": "code",
   "execution_count": 6,
   "metadata": {
    "collapsed": false,
    "jupyter": {
     "outputs_hidden": false
    }
   },
   "outputs": [],
   "source": [
    "# Instance of ERobot and angles for forward kinematics\n",
    "def get_joint_RT(robot, joint_angle):\n",
    "\tlink_idx_list = [0, 1, 2, 3, 4, 5, 6, 7, 9]\n",
    "\t# link 0,1,2,3,4,5,6,7, and hand\n",
    "\tR_list = []\n",
    "\tt_list = []\n",
    "\n",
    "\tfor i in range(len(link_idx_list)):\n",
    "\t\tlink_idx = link_idx_list[i]\n",
    "\t\tT = robot.fkine(joint_angle, end=robot.links[link_idx], start=robot.links[0])\n",
    "\t\tR_list.append(T.R)\n",
    "\t\tt_list.append(T.t)\n",
    "\n",
    "\treturn np.array(R_list), np.array(t_list)\n"
   ]
  },
  {
   "cell_type": "markdown",
   "metadata": {
    "collapsed": false,
    "jupyter": {
     "outputs_hidden": false
    }
   },
   "source": [
    "### Define Panda robot model class"
   ]
  },
  {
   "cell_type": "code",
   "execution_count": 7,
   "metadata": {
    "collapsed": false,
    "jupyter": {
     "outputs_hidden": false
    }
   },
   "outputs": [],
   "source": [
    "from roboticstoolbox import ERobot\n",
    "\n",
    "\n",
    "class Panda(ERobot):\n",
    "\t\"\"\"\n",
    "    Class that imports a URDF model\n",
    "    \"\"\"\n",
    "\n",
    "\tdef __init__(self, urdf_file):\n",
    "\t\tlinks, name, urdf_string, urdf_filepath = self.URDF_read(urdf_file)\n",
    "\n",
    "\t\tsuper().__init__(\n",
    "\t\t\tlinks,\n",
    "\t\t\tname=name,\n",
    "\t\t\tmanufacturer=\"Franka\",\n",
    "\t\t\turdf_string=urdf_string,\n",
    "\t\t\turdf_filepath=urdf_filepath,\n",
    "\t\t\t# gripper_links=elinks[9]\n",
    "\t\t)\n",
    "\n",
    "\n",
    "panda = Panda(urdf_file=os.path.join(base_dir, \"urdfs/panda.urdf\"))\n"
   ]
  },
  {
   "cell_type": "markdown",
   "metadata": {
    "collapsed": false,
    "jupyter": {
     "outputs_hidden": false
    }
   },
   "source": [
    "### Get rotation and translation matrices for robot"
   ]
  },
  {
   "cell_type": "code",
   "execution_count": 8,
   "metadata": {
    "collapsed": false,
    "jupyter": {
     "outputs_hidden": false
    }
   },
   "outputs": [],
   "source": [
    "joint_angles = np.array([0.0200, -0.9641, -0.0662, -2.7979, -0.0469, 1.9289, 0.9137])\n",
    "R_list, T_list = get_joint_RT(panda, joint_angles)"
   ]
  },
  {
   "cell_type": "markdown",
   "metadata": {
    "collapsed": false,
    "jupyter": {
     "outputs_hidden": false
    }
   },
   "source": [
    "### Apply transofrmations on meshes"
   ]
  },
  {
   "cell_type": "code",
   "execution_count": 9,
   "metadata": {
    "collapsed": false,
    "jupyter": {
     "outputs_hidden": false
    }
   },
   "outputs": [
    {
     "name": "stdout",
     "output_type": "stream",
     "text": [
      "9\n",
      "9\n",
      "9\n"
     ]
    }
   ],
   "source": [
    "print(len(mesh_files))\n",
    "print(R_list.shape[0])\n",
    "print(T_list.shape[0])"
   ]
  },
  {
   "cell_type": "code",
   "execution_count": 10,
   "metadata": {
    "collapsed": false,
    "jupyter": {
     "outputs_hidden": false
    }
   },
   "outputs": [],
   "source": [
    "assert len(mesh_files) == R_list.shape[0] and len(mesh_files) == T_list.shape[0]\n",
    "verts_list = []\n",
    "faces_list = []\n",
    "verts_rgb_list = []\n",
    "verts_count = 0\n",
    "for i in range(len(mesh_files)):\n",
    "\t# Get verts\n",
    "\tverts_i = verts[i]\n",
    "\t# Get faces\n",
    "\tfaces_i = faces[i]\n",
    "\n",
    "\t# Convert tensors to right type\n",
    "\tR = torch.tensor(R_list[i], dtype=torch.float32)\n",
    "\tt = torch.tensor(T_list[i], dtype=torch.float32)\n",
    "\n",
    "\tverts_i = verts_i @ R.T + t\n",
    "\tfaces_i = faces_i + verts_count\n",
    "\n",
    "\tverts_count += verts_i.shape[0]\n",
    "\n",
    "\tverts_list.append(verts_i.to(device))\n",
    "\tfaces_list.append(faces_i.to(device))\n",
    "\n",
    "\t# Initialize each vertex to be white in color.\n",
    "\tcolor = torch.rand(3)\n",
    "\tverts_rgb_i = torch.ones_like(verts_i) * color  # (V, 3)\n",
    "\tverts_rgb_list.append(verts_rgb_i.to(device))\n",
    "\n",
    "# Concat all verts and faces\n",
    "verts = torch.concat(verts_list, dim=0)\n",
    "faces = torch.concat(faces_list, dim=0)\n",
    "\n",
    "verts_rgb = torch.concat(verts_rgb_list, dim=0)[None]\n",
    "textures = Textures(verts_rgb=verts_rgb)\n",
    "\n",
    "# Create a Meshes object\n",
    "robot_mesh = Meshes(\n",
    "\tverts=[verts.to(device)],\n",
    "\tfaces=[faces.to(device)],\n",
    "\ttextures=textures\n",
    ")"
   ]
  },
  {
   "cell_type": "markdown",
   "metadata": {
    "collapsed": false,
    "jupyter": {
     "outputs_hidden": false
    }
   },
   "source": [
    "### Render image"
   ]
  },
  {
   "cell_type": "code",
   "execution_count": 11,
   "metadata": {
    "collapsed": false,
    "jupyter": {
     "outputs_hidden": false
    },
    "pycharm": {
     "is_executing": true
    }
   },
   "outputs": [
    {
     "data": {
      "image/png": "[encoded data removed]",
      "text/plain": [
       "<Figure size 640x480 with 1 Axes>"
      ]
     },
     "metadata": {},
     "output_type": "display_data"
    }
   ],
   "source": [
    "images = silhouette_renderer(meshes_world=robot_mesh)\n",
    "# Convert rendered image to numpy array\n",
    "rendered_image = images[0, ..., :3].cpu().numpy()\n",
    "plt.imshow(rendered_image)\n",
    "plt.axis(\"off\")\n",
    "plt.show()\n",
    "print(\"IMAGE GENERATED\")"
   ]
  },
  {
   "cell_type": "markdown",
   "metadata": {
    "collapsed": false,
    "jupyter": {
     "outputs_hidden": false
    }
   },
   "source": []
  }
 ],
 "metadata": {
  "kernelspec": {
   "display_name": "Python 3 (ipykernel)",
   "language": "python",
   "name": "python3"
  },
  "language_info": {
   "codemirror_mode": {
    "name": "ipython",
    "version": 3
   },
   "file_extension": ".py",
   "mimetype": "text/x-python",
   "name": "python",
   "nbconvert_exporter": "python",
   "pygments_lexer": "ipython3",
   "version": "3.12.2"
  }
 },
 "nbformat": 4,
 "nbformat_minor": 4
}
