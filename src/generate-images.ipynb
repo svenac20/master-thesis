{
 "cells": [
  {
   "cell_type": "code",
   "execution_count": 2,
   "outputs": [],
   "source": [
    "import os\n",
    "import torch\n",
    "import numpy as np\n",
    "from pytorch3d.renderer import PerspectiveCameras, BlendParams, RasterizationSettings, MeshRenderer, MeshRasterizer, SoftSilhouetteShader, Textures\n",
    "from pytorch3d.io import load_obj, save_obj\n",
    "from pytorch3d.structures import Meshes, join_meshes_as_scene, join_meshes_as_batch\n",
    "from mpl_toolkits.mplot3d import Axes3D\n",
    "from pytorch3d.ops import sample_points_from_meshes\n",
    "import matplotlib.pyplot as plt\n",
    "import matplotlib as mpl\n",
    "import pytorch3d"
   ],
   "metadata": {
    "collapsed": false
   }
  },
  {
   "cell_type": "code",
   "execution_count": 3,
   "outputs": [
    {
     "name": "stdout",
     "output_type": "stream",
     "text": [
      "WARNING: CPU only, this will be slow!\n"
     ]
    }
   ],
   "source": [
    "# Set the device\n",
    "if torch.cuda.is_available():\n",
    "\tdevice = torch.device(\"cuda:0\")\n",
    "else:\n",
    "\tdevice = torch.device(\"cpu\")\n",
    "\tprint(\"WARNING: CPU only, this will be slow!\")\n"
   ],
   "metadata": {
    "collapsed": false
   }
  },
  {
   "cell_type": "markdown",
   "metadata": {
    "collapsed": false,
    "jupyter": {
     "outputs_hidden": false
    }
   },
   "source": [
    "### Get all mesh files"
   ]
  },
  {
   "cell_type": "code",
   "execution_count": 40,
   "metadata": {
    "collapsed": false,
    "jupyter": {
     "outputs_hidden": false
    }
   },
   "outputs": [],
   "source": [
    "base_dir = \"/home/sscekic/master-thesis/src\"\n",
    "mesh_files = [os.path.join(base_dir, \"urdfs/meshes/visual/link0/link0.obj\"),\n",
    "\t\t\t  os.path.join(base_dir, \"urdfs/meshes/visual/link1/link1.obj\"),\n",
    "\t\t\t  os.path.join(base_dir, \"urdfs/meshes/visual/link2/link2.obj\"),\n",
    "\t\t\t  os.path.join(base_dir, \"urdfs/meshes/visual/link3/link3.obj\"),\n",
    "\t\t\t  os.path.join(base_dir, \"urdfs/meshes/visual/link4/link4.obj\"),\n",
    "\t\t\t  os.path.join(base_dir, \"urdfs/meshes/visual/link5/link5.obj\"),\n",
    "\t\t\t  os.path.join(base_dir, \"urdfs/meshes/visual/link6/link6.obj\"),\n",
    "\t\t\t  os.path.join(base_dir, \"urdfs/meshes/visual/link7/link7.obj\"),\n",
    "\t\t\t  os.path.join(base_dir, \"urdfs/meshes/visual/hand/hand.obj\")\n",
    "\t\t\t  ]"
   ]
  },
  {
   "cell_type": "markdown",
   "metadata": {
    "collapsed": false,
    "jupyter": {
     "outputs_hidden": false
    }
   },
   "source": [
    "### Load all mesh files into objects"
   ]
  },
  {
   "cell_type": "code",
   "execution_count": 53,
   "metadata": {
    "collapsed": false,
    "jupyter": {
     "outputs_hidden": false
    }
   },
   "outputs": [
    {
     "name": "stderr",
     "output_type": "stream",
     "text": [
      "An exception occurred in telemetry logging.Disabling telemetry to prevent further exceptions.\n",
      "Traceback (most recent call last):\n",
      "  File \"/home/sscekic/anaconda3/envs/nerf/lib/python3.12/site-packages/iopath/common/file_io.py\", line 946, in __log_tmetry_keys\n",
      "    handler.log_event()\n",
      "  File \"/home/sscekic/anaconda3/envs/nerf/lib/python3.12/site-packages/iopath/common/event_logger.py\", line 97, in log_event\n",
      "    del self._evt\n",
      "        ^^^^^^^^^\n",
      "AttributeError: 'NativePathHandler' object has no attribute '_evt'\n",
      "An exception occurred in telemetry logging.Disabling telemetry to prevent further exceptions.\n",
      "Traceback (most recent call last):\n",
      "  File \"/home/sscekic/anaconda3/envs/nerf/lib/python3.12/site-packages/iopath/common/file_io.py\", line 946, in __log_tmetry_keys\n",
      "    handler.log_event()\n",
      "  File \"/home/sscekic/anaconda3/envs/nerf/lib/python3.12/site-packages/iopath/common/event_logger.py\", line 97, in log_event\n",
      "    del self._evt\n",
      "        ^^^^^^^^^\n",
      "AttributeError: 'NativePathHandler' object has no attribute '_evt'\n",
      "An exception occurred in telemetry logging.Disabling telemetry to prevent further exceptions.\n",
      "Traceback (most recent call last):\n",
      "  File \"/home/sscekic/anaconda3/envs/nerf/lib/python3.12/site-packages/iopath/common/file_io.py\", line 946, in __log_tmetry_keys\n",
      "    handler.log_event()\n",
      "  File \"/home/sscekic/anaconda3/envs/nerf/lib/python3.12/site-packages/iopath/common/event_logger.py\", line 97, in log_event\n",
      "    del self._evt\n",
      "        ^^^^^^^^^\n",
      "AttributeError: 'NativePathHandler' object has no attribute '_evt'\n",
      "An exception occurred in telemetry logging.Disabling telemetry to prevent further exceptions.\n",
      "Traceback (most recent call last):\n",
      "  File \"/home/sscekic/anaconda3/envs/nerf/lib/python3.12/site-packages/iopath/common/file_io.py\", line 946, in __log_tmetry_keys\n",
      "    handler.log_event()\n",
      "  File \"/home/sscekic/anaconda3/envs/nerf/lib/python3.12/site-packages/iopath/common/event_logger.py\", line 97, in log_event\n",
      "    del self._evt\n",
      "        ^^^^^^^^^\n",
      "AttributeError: 'NativePathHandler' object has no attribute '_evt'\n",
      "An exception occurred in telemetry logging.Disabling telemetry to prevent further exceptions.\n",
      "Traceback (most recent call last):\n",
      "  File \"/home/sscekic/anaconda3/envs/nerf/lib/python3.12/site-packages/iopath/common/file_io.py\", line 946, in __log_tmetry_keys\n",
      "    handler.log_event()\n",
      "  File \"/home/sscekic/anaconda3/envs/nerf/lib/python3.12/site-packages/iopath/common/event_logger.py\", line 97, in log_event\n",
      "    del self._evt\n",
      "        ^^^^^^^^^\n",
      "AttributeError: 'NativePathHandler' object has no attribute '_evt'\n",
      "An exception occurred in telemetry logging.Disabling telemetry to prevent further exceptions.\n",
      "Traceback (most recent call last):\n",
      "  File \"/home/sscekic/anaconda3/envs/nerf/lib/python3.12/site-packages/iopath/common/file_io.py\", line 946, in __log_tmetry_keys\n",
      "    handler.log_event()\n",
      "  File \"/home/sscekic/anaconda3/envs/nerf/lib/python3.12/site-packages/iopath/common/event_logger.py\", line 97, in log_event\n",
      "    del self._evt\n",
      "        ^^^^^^^^^\n",
      "AttributeError: 'NativePathHandler' object has no attribute '_evt'\n",
      "An exception occurred in telemetry logging.Disabling telemetry to prevent further exceptions.\n",
      "Traceback (most recent call last):\n",
      "  File \"/home/sscekic/anaconda3/envs/nerf/lib/python3.12/site-packages/iopath/common/file_io.py\", line 946, in __log_tmetry_keys\n",
      "    handler.log_event()\n",
      "  File \"/home/sscekic/anaconda3/envs/nerf/lib/python3.12/site-packages/iopath/common/event_logger.py\", line 97, in log_event\n",
      "    del self._evt\n",
      "        ^^^^^^^^^\n",
      "AttributeError: 'NativePathHandler' object has no attribute '_evt'\n",
      "An exception occurred in telemetry logging.Disabling telemetry to prevent further exceptions.\n",
      "Traceback (most recent call last):\n",
      "  File \"/home/sscekic/anaconda3/envs/nerf/lib/python3.12/site-packages/iopath/common/file_io.py\", line 946, in __log_tmetry_keys\n",
      "    handler.log_event()\n",
      "  File \"/home/sscekic/anaconda3/envs/nerf/lib/python3.12/site-packages/iopath/common/event_logger.py\", line 97, in log_event\n",
      "    del self._evt\n",
      "        ^^^^^^^^^\n",
      "AttributeError: 'NativePathHandler' object has no attribute '_evt'\n",
      "An exception occurred in telemetry logging.Disabling telemetry to prevent further exceptions.\n",
      "Traceback (most recent call last):\n",
      "  File \"/home/sscekic/anaconda3/envs/nerf/lib/python3.12/site-packages/iopath/common/file_io.py\", line 946, in __log_tmetry_keys\n",
      "    handler.log_event()\n",
      "  File \"/home/sscekic/anaconda3/envs/nerf/lib/python3.12/site-packages/iopath/common/event_logger.py\", line 97, in log_event\n",
      "    del self._evt\n",
      "        ^^^^^^^^^\n",
      "AttributeError: 'NativePathHandler' object has no attribute '_evt'\n"
     ]
    }
   ],
   "source": [
    "from os.path import exists\n",
    "\n",
    "verts = []\n",
    "faces = []\n",
    "for m_file in mesh_files:\n",
    "\tassert exists(m_file)\n",
    "\tpreload_verts_i, preload_faces_idx_i, _ = load_obj(m_file)\n",
    "\tpreload_faces_i = preload_faces_idx_i.verts_idx\n",
    "\tverts.append(preload_verts_i)\n",
    "\tfaces.append(preload_faces_i)"
   ]
  },
  {
   "cell_type": "markdown",
   "metadata": {
    "collapsed": false,
    "jupyter": {
     "outputs_hidden": false
    }
   },
   "source": [
    "### Setup cameras and renderer"
   ]
  },
  {
   "cell_type": "code",
   "execution_count": 54,
   "metadata": {
    "collapsed": false,
    "jupyter": {
     "outputs_hidden": false
    }
   },
   "outputs": [],
   "source": [
    "\n",
    "from pytorch3d.renderer import FoVPerspectiveCameras\n",
    "\n",
    "focal_length = [960.41357421875, 960.22314453125]\n",
    "principal_point = [1021.7171020507812, 776.2381591796875]\n",
    "image_size = [1536, 2048]\n",
    "cameras = PerspectiveCameras(focal_length=focal_length,\n",
    "\t\t\t\t\t\t\t principal_point=principal_point,\n",
    "\t\t\t\t\t\t\t device=device,\n",
    "\t\t\t\t\t\t\t in_ndc=False, image_size=image_size)\n",
    "\n",
    "blend_params = BlendParams(sigma=1e-8, gamma=1e-8)\n",
    "raster_settings = RasterizationSettings(\n",
    "\timage_size=image_size,\n",
    "\tblur_radius=np.log(1. / 1e-4 - 1.) * blend_params.sigma,\n",
    "\tfaces_per_pixel=100,\n",
    "\tmax_faces_per_bin=100000,  # max_faces_per_bin=1000000,\n",
    ")\n",
    "\n",
    "silhouette_renderer = MeshRenderer(\n",
    "\trasterizer=MeshRasterizer(\n",
    "\t\tcameras=cameras,\n",
    "\t\traster_settings=raster_settings\n",
    "\t),\n",
    "\tshader=SoftSilhouetteShader(blend_params=blend_params)\n",
    ")"
   ]
  },
  {
   "cell_type": "markdown",
   "metadata": {
    "collapsed": false,
    "jupyter": {
     "outputs_hidden": false
    }
   },
   "source": [
    "### Define function for getting rotation and translation matrix"
   ]
  },
  {
   "cell_type": "code",
   "execution_count": 55,
   "metadata": {
    "collapsed": false,
    "jupyter": {
     "outputs_hidden": false
    }
   },
   "outputs": [],
   "source": [
    "# Instance of ERobot and angles for forward kinematics\n",
    "def get_joint_RT(robot, joint_angle):\n",
    "\tlink_idx_list = [0, 1, 2, 3, 4, 5, 6, 7, 9]\n",
    "\t# link 0,1,2,3,4,5,6,7, and hand\n",
    "\tR_list = []\n",
    "\tt_list = []\n",
    "\n",
    "\tfor i in range(len(link_idx_list)):\n",
    "\t\tlink_idx = link_idx_list[i]\n",
    "\t\tT = robot.fkine(joint_angle, end=robot.links[link_idx], start=robot.links[0])\n",
    "\t\tR_list.append(T.R)\n",
    "\t\tt_list.append(T.t)\n",
    "\n",
    "\treturn np.array(R_list), np.array(t_list)\n"
   ]
  },
  {
   "cell_type": "markdown",
   "metadata": {
    "collapsed": false,
    "jupyter": {
     "outputs_hidden": false
    }
   },
   "source": [
    "### Define Panda robot model class"
   ]
  },
  {
   "cell_type": "code",
   "execution_count": 56,
   "metadata": {
    "collapsed": false,
    "jupyter": {
     "outputs_hidden": false
    }
   },
   "outputs": [],
   "source": [
    "from roboticstoolbox import ERobot\n",
    "\n",
    "\n",
    "class Panda(ERobot):\n",
    "\t\"\"\"\n",
    "    Class that imports a URDF model\n",
    "    \"\"\"\n",
    "\n",
    "\tdef __init__(self, urdf_file):\n",
    "\t\tlinks, name, urdf_string, urdf_filepath = self.URDF_read(urdf_file)\n",
    "\n",
    "\t\tsuper().__init__(\n",
    "\t\t\tlinks,\n",
    "\t\t\tname=name,\n",
    "\t\t\tmanufacturer=\"Franka\",\n",
    "\t\t\turdf_string=urdf_string,\n",
    "\t\t\turdf_filepath=urdf_filepath,\n",
    "\t\t\t# gripper_links=elinks[9]\n",
    "\t\t)\n",
    "\n",
    "\n",
    "panda = Panda(urdf_file=os.path.join(base_dir, \"urdfs/panda.urdf\"))\n"
   ]
  },
  {
   "cell_type": "markdown",
   "metadata": {
    "collapsed": false,
    "jupyter": {
     "outputs_hidden": false
    }
   },
   "source": [
    "### Get rotation and translation matrices for robot"
   ]
  },
  {
   "cell_type": "code",
   "execution_count": 57,
   "metadata": {
    "collapsed": false,
    "jupyter": {
     "outputs_hidden": false
    }
   },
   "outputs": [],
   "source": [
    "joint_angles = np.array([0.0200, -0.9641, -0.0662, -2.7979, -0.0469, 1.9289, 0.9137])\n",
    "R_list, T_list = get_joint_RT(panda, joint_angles)"
   ]
  },
  {
   "cell_type": "markdown",
   "metadata": {
    "collapsed": false,
    "jupyter": {
     "outputs_hidden": false
    }
   },
   "source": [
    "### Apply transofrmations on meshes"
   ]
  },
  {
   "cell_type": "code",
   "execution_count": 58,
   "metadata": {
    "collapsed": false,
    "jupyter": {
     "outputs_hidden": false
    }
   },
   "outputs": [
    {
     "name": "stdout",
     "output_type": "stream",
     "text": [
      "9\n",
      "9\n",
      "9\n"
     ]
    }
   ],
   "source": [
    "print(len(mesh_files))\n",
    "print(R_list.shape[0])\n",
    "print(T_list.shape[0])"
   ]
  },
  {
   "cell_type": "code",
   "execution_count": 59,
   "metadata": {
    "collapsed": false,
    "jupyter": {
     "outputs_hidden": false
    }
   },
   "outputs": [],
   "source": [
    "assert len(mesh_files) == R_list.shape[0] and len(mesh_files) == T_list.shape[0]\n",
    "verts_list = []\n",
    "faces_list = []\n",
    "verts_rgb_list = []\n",
    "verts_count = 0\n",
    "for i in range(len(mesh_files)):\n",
    "\t# Get verts\n",
    "\tverts_i = verts[i]\n",
    "\t# Get faces\n",
    "\tfaces_i = faces[i]\n",
    "\n",
    "\t# Convert tensors to right type\n",
    "\tR = torch.tensor(R_list[i], dtype=torch.float32)\n",
    "\tt = torch.tensor(T_list[i], dtype=torch.float32)\n",
    "\n",
    "\tverts_i = verts_i @ R.T + t\n",
    "\tfaces_i = faces_i + verts_count\n",
    "\n",
    "\tverts_count += verts_i.shape[0]\n",
    "\n",
    "\tverts_list.append(verts_i.to(device))\n",
    "\tfaces_list.append(faces_i.to(device))\n",
    "\n",
    "\t# Initialize each vertex to be white in color.\n",
    "\tcolor = torch.rand(3)\n",
    "\tverts_rgb_i = torch.ones_like(verts_i) * color  # (V, 3)\n",
    "\tverts_rgb_list.append(verts_rgb_i.to(device))\n",
    "\n",
    "# Concat all verts and faces\n",
    "verts = torch.concat(verts_list, dim=0)\n",
    "faces = torch.concat(faces_list, dim=0)\n",
    "\n",
    "verts_rgb = torch.concat(verts_rgb_list, dim=0)[None]\n",
    "textures = Textures(verts_rgb=verts_rgb)\n",
    "\n",
    "# Create a Meshes object\n",
    "robot_mesh = Meshes(\n",
    "\tverts=[verts.to(device)],\n",
    "\tfaces=[faces.to(device)],\n",
    "\ttextures=textures\n",
    ")"
   ]
  },
  {
   "cell_type": "code",
   "execution_count": 51,
   "outputs": [
    {
     "name": "stdout",
     "output_type": "stream",
     "text": [
      "[[[ 1.00000000e+00  0.00000000e+00  0.00000000e+00]\n",
      "  [ 0.00000000e+00  1.00000000e+00  0.00000000e+00]\n",
      "  [ 0.00000000e+00  0.00000000e+00  1.00000000e+00]]\n",
      "\n",
      " [[ 9.99800007e-01 -1.99986667e-02  0.00000000e+00]\n",
      "  [ 1.99986667e-02  9.99800007e-01  0.00000000e+00]\n",
      "  [ 0.00000000e+00  0.00000000e+00  1.00000000e+00]]\n",
      "\n",
      " [[ 5.70042462e-01  8.21371807e-01 -1.99986667e-02]\n",
      "  [ 1.14023696e-02  1.64296268e-02  9.99800007e-01]\n",
      "  [ 8.21536108e-01 -5.70156490e-01  4.89658886e-12]]\n",
      "\n",
      " [[ 5.70116775e-01  1.77543926e-02 -8.21371807e-01]\n",
      "  [-5.47610342e-02  9.98364311e-01 -1.64296268e-02]\n",
      "  [ 8.19736599e-01  5.43459754e-02  5.70156490e-01]]\n",
      "\n",
      " [[-2.60000079e-01  9.65445359e-01 -1.77543926e-02]\n",
      "  [ 5.70946599e-02 -2.98384139e-03 -9.98364311e-01]\n",
      "  [-9.63919166e-01 -2.60588481e-01 -5.43459754e-02]]\n",
      "\n",
      " [[-2.60546558e-01  5.54533595e-03  9.65445359e-01]\n",
      "  [ 1.02257559e-02  9.99943264e-01 -2.98384140e-03]\n",
      "  [-9.65407129e-01  9.09497894e-03 -2.60588481e-01]]\n",
      "\n",
      " [[ 9.95521828e-01 -9.43691633e-02 -5.54533594e-03]\n",
      "  [-6.37867146e-03 -8.53123338e-03 -9.99943264e-01]\n",
      "  [ 9.43165006e-02  9.95500718e-01 -9.09497894e-03]]\n",
      "\n",
      " [[ 6.03694406e-01 -7.91610715e-01  9.43691633e-02]\n",
      "  [-7.95620490e-01 -6.05735300e-01  8.53123337e-03]\n",
      "  [ 5.04093177e-02 -8.02322978e-02 -9.95500718e-01]]\n",
      "\n",
      " [[ 9.86629713e-01 -1.32876896e-01  9.43691633e-02]\n",
      "  [-1.34269106e-01 -9.90908182e-01  8.53123337e-03]\n",
      "  [ 9.23775722e-02 -2.10880315e-02 -9.95500718e-01]]]\n"
     ]
    },
    {
     "ename": "TypeError",
     "evalue": "concat() received an invalid combination of arguments - got (numpy.ndarray, dim=int), but expected one of:\n * (tuple of Tensors tensors, int dim, *, Tensor out)\n * (tuple of Tensors tensors, name dim, *, Tensor out)\n",
     "output_type": "error",
     "traceback": [
      "\u001B[0;31m---------------------------------------------------------------------------\u001B[0m",
      "\u001B[0;31mTypeError\u001B[0m                                 Traceback (most recent call last)",
      "Cell \u001B[0;32mIn[51], line 2\u001B[0m\n\u001B[1;32m      1\u001B[0m \u001B[38;5;28mprint\u001B[39m(R_list)\n\u001B[0;32m----> 2\u001B[0m R \u001B[38;5;241m=\u001B[39m \u001B[43mtorch\u001B[49m\u001B[38;5;241;43m.\u001B[39;49m\u001B[43mconcat\u001B[49m\u001B[43m(\u001B[49m\u001B[43mR_list\u001B[49m\u001B[43m,\u001B[49m\u001B[43m \u001B[49m\u001B[43mdim\u001B[49m\u001B[38;5;241;43m=\u001B[39;49m\u001B[38;5;241;43m0\u001B[39;49m\u001B[43m)\u001B[49m\n\u001B[1;32m      3\u001B[0m T \u001B[38;5;241m=\u001B[39m torch\u001B[38;5;241m.\u001B[39mconcat(T_list, dim\u001B[38;5;241m=\u001B[39m\u001B[38;5;241m0\u001B[39m)\n",
      "\u001B[0;31mTypeError\u001B[0m: concat() received an invalid combination of arguments - got (numpy.ndarray, dim=int), but expected one of:\n * (tuple of Tensors tensors, int dim, *, Tensor out)\n * (tuple of Tensors tensors, name dim, *, Tensor out)\n"
     ]
    }
   ],
   "source": [
    "print(R_list)\n",
    "test_R = torch.concat(R_list, dim=0)\n",
    "test_T = torch.concat(T_list, dim=0)"
   ],
   "metadata": {
    "collapsed": false
   }
  },
  {
   "cell_type": "code",
   "execution_count": 33,
   "outputs": [
    {
     "name": "stdout",
     "output_type": "stream",
     "text": [
      "torch.Size([3, 3])\n"
     ]
    },
    {
     "ename": "NameError",
     "evalue": "name 'T' is not defined",
     "output_type": "error",
     "traceback": [
      "\u001B[0;31m---------------------------------------------------------------------------\u001B[0m",
      "\u001B[0;31mNameError\u001B[0m                                 Traceback (most recent call last)",
      "Cell \u001B[0;32mIn[33], line 2\u001B[0m\n\u001B[1;32m      1\u001B[0m \u001B[38;5;28mprint\u001B[39m(R\u001B[38;5;241m.\u001B[39mshape)\n\u001B[0;32m----> 2\u001B[0m \u001B[38;5;28mprint\u001B[39m(\u001B[43mT\u001B[49m\u001B[38;5;241m.\u001B[39mshape)\n",
      "\u001B[0;31mNameError\u001B[0m: name 'T' is not defined"
     ]
    }
   ],
   "source": [
    "print(R.shape)\n",
    "print(T.shape)"
   ],
   "metadata": {
    "collapsed": false
   }
  },
  {
   "cell_type": "code",
   "execution_count": 28,
   "outputs": [],
   "source": [
    "focal_length = [960.41357421875, 960.22314453125]\n",
    "principal_point = [1021.7171020507812, 776.2381591796875]\n",
    "image_size = [1536, 2048]\n",
    "cameras = FoVPerspectiveCameras(R=R, T=T)\n",
    "\n",
    "blend_params = BlendParams(sigma=1e-8, gamma=1e-8)\n",
    "raster_settings = RasterizationSettings(\n",
    "\timage_size=image_size,\n",
    "\tblur_radius=np.log(1. / 1e-4 - 1.) * blend_params.sigma,\n",
    "\tfaces_per_pixel=100,\n",
    "\tmax_faces_per_bin=100000,  # max_faces_per_bin=1000000,\n",
    ")\n",
    "\n",
    "silhouette_renderer = MeshRenderer(\n",
    "\trasterizer=MeshRasterizer(\n",
    "\t\tcameras=cameras,\n",
    "\t\traster_settings=raster_settings\n",
    "\t),\n",
    "\tshader=SoftSilhouetteShader(blend_params=blend_params)\n",
    ")"
   ],
   "metadata": {
    "collapsed": false
   }
  },
  {
   "cell_type": "code",
   "execution_count": 31,
   "outputs": [
    {
     "ename": "ValueError",
     "evalue": "Wrong number (9) of cameras for 1 meshes",
     "output_type": "error",
     "traceback": [
      "\u001B[0;31m---------------------------------------------------------------------------\u001B[0m",
      "\u001B[0;31mValueError\u001B[0m                                Traceback (most recent call last)",
      "Cell \u001B[0;32mIn[31], line 1\u001B[0m\n\u001B[0;32m----> 1\u001B[0m images \u001B[38;5;241m=\u001B[39m \u001B[43msilhouette_renderer\u001B[49m\u001B[43m(\u001B[49m\u001B[43mmeshes_world\u001B[49m\u001B[38;5;241;43m=\u001B[39;49m\u001B[43mrobot_mesh\u001B[49m\u001B[43m)\u001B[49m\n",
      "File \u001B[0;32m~/anaconda3/envs/nerf/lib/python3.12/site-packages/torch/nn/modules/module.py:1518\u001B[0m, in \u001B[0;36mModule._wrapped_call_impl\u001B[0;34m(self, *args, **kwargs)\u001B[0m\n\u001B[1;32m   1516\u001B[0m     \u001B[38;5;28;01mreturn\u001B[39;00m \u001B[38;5;28mself\u001B[39m\u001B[38;5;241m.\u001B[39m_compiled_call_impl(\u001B[38;5;241m*\u001B[39margs, \u001B[38;5;241m*\u001B[39m\u001B[38;5;241m*\u001B[39mkwargs)  \u001B[38;5;66;03m# type: ignore[misc]\u001B[39;00m\n\u001B[1;32m   1517\u001B[0m \u001B[38;5;28;01melse\u001B[39;00m:\n\u001B[0;32m-> 1518\u001B[0m     \u001B[38;5;28;01mreturn\u001B[39;00m \u001B[38;5;28;43mself\u001B[39;49m\u001B[38;5;241;43m.\u001B[39;49m\u001B[43m_call_impl\u001B[49m\u001B[43m(\u001B[49m\u001B[38;5;241;43m*\u001B[39;49m\u001B[43margs\u001B[49m\u001B[43m,\u001B[49m\u001B[43m \u001B[49m\u001B[38;5;241;43m*\u001B[39;49m\u001B[38;5;241;43m*\u001B[39;49m\u001B[43mkwargs\u001B[49m\u001B[43m)\u001B[49m\n",
      "File \u001B[0;32m~/anaconda3/envs/nerf/lib/python3.12/site-packages/torch/nn/modules/module.py:1527\u001B[0m, in \u001B[0;36mModule._call_impl\u001B[0;34m(self, *args, **kwargs)\u001B[0m\n\u001B[1;32m   1522\u001B[0m \u001B[38;5;66;03m# If we don't have any hooks, we want to skip the rest of the logic in\u001B[39;00m\n\u001B[1;32m   1523\u001B[0m \u001B[38;5;66;03m# this function, and just call forward.\u001B[39;00m\n\u001B[1;32m   1524\u001B[0m \u001B[38;5;28;01mif\u001B[39;00m \u001B[38;5;129;01mnot\u001B[39;00m (\u001B[38;5;28mself\u001B[39m\u001B[38;5;241m.\u001B[39m_backward_hooks \u001B[38;5;129;01mor\u001B[39;00m \u001B[38;5;28mself\u001B[39m\u001B[38;5;241m.\u001B[39m_backward_pre_hooks \u001B[38;5;129;01mor\u001B[39;00m \u001B[38;5;28mself\u001B[39m\u001B[38;5;241m.\u001B[39m_forward_hooks \u001B[38;5;129;01mor\u001B[39;00m \u001B[38;5;28mself\u001B[39m\u001B[38;5;241m.\u001B[39m_forward_pre_hooks\n\u001B[1;32m   1525\u001B[0m         \u001B[38;5;129;01mor\u001B[39;00m _global_backward_pre_hooks \u001B[38;5;129;01mor\u001B[39;00m _global_backward_hooks\n\u001B[1;32m   1526\u001B[0m         \u001B[38;5;129;01mor\u001B[39;00m _global_forward_hooks \u001B[38;5;129;01mor\u001B[39;00m _global_forward_pre_hooks):\n\u001B[0;32m-> 1527\u001B[0m     \u001B[38;5;28;01mreturn\u001B[39;00m \u001B[43mforward_call\u001B[49m\u001B[43m(\u001B[49m\u001B[38;5;241;43m*\u001B[39;49m\u001B[43margs\u001B[49m\u001B[43m,\u001B[49m\u001B[43m \u001B[49m\u001B[38;5;241;43m*\u001B[39;49m\u001B[38;5;241;43m*\u001B[39;49m\u001B[43mkwargs\u001B[49m\u001B[43m)\u001B[49m\n\u001B[1;32m   1529\u001B[0m \u001B[38;5;28;01mtry\u001B[39;00m:\n\u001B[1;32m   1530\u001B[0m     result \u001B[38;5;241m=\u001B[39m \u001B[38;5;28;01mNone\u001B[39;00m\n",
      "File \u001B[0;32m~/anaconda3/envs/nerf/lib/python3.12/site-packages/pytorch3d/renderer/mesh/renderer.py:61\u001B[0m, in \u001B[0;36mMeshRenderer.forward\u001B[0;34m(self, meshes_world, **kwargs)\u001B[0m\n\u001B[1;32m     48\u001B[0m \u001B[38;5;28;01mdef\u001B[39;00m \u001B[38;5;21mforward\u001B[39m(\u001B[38;5;28mself\u001B[39m, meshes_world: Meshes, \u001B[38;5;241m*\u001B[39m\u001B[38;5;241m*\u001B[39mkwargs) \u001B[38;5;241m-\u001B[39m\u001B[38;5;241m>\u001B[39m torch\u001B[38;5;241m.\u001B[39mTensor:\n\u001B[1;32m     49\u001B[0m \u001B[38;5;250m    \u001B[39m\u001B[38;5;124;03m\"\"\"\u001B[39;00m\n\u001B[1;32m     50\u001B[0m \u001B[38;5;124;03m    Render a batch of images from a batch of meshes by rasterizing and then\u001B[39;00m\n\u001B[1;32m     51\u001B[0m \u001B[38;5;124;03m    shading.\u001B[39;00m\n\u001B[0;32m   (...)\u001B[0m\n\u001B[1;32m     59\u001B[0m \u001B[38;5;124;03m    For this set rasterizer.raster_settings.clip_barycentric_coords=True\u001B[39;00m\n\u001B[1;32m     60\u001B[0m \u001B[38;5;124;03m    \"\"\"\u001B[39;00m\n\u001B[0;32m---> 61\u001B[0m     fragments \u001B[38;5;241m=\u001B[39m \u001B[38;5;28;43mself\u001B[39;49m\u001B[38;5;241;43m.\u001B[39;49m\u001B[43mrasterizer\u001B[49m\u001B[43m(\u001B[49m\u001B[43mmeshes_world\u001B[49m\u001B[43m,\u001B[49m\u001B[43m \u001B[49m\u001B[38;5;241;43m*\u001B[39;49m\u001B[38;5;241;43m*\u001B[39;49m\u001B[43mkwargs\u001B[49m\u001B[43m)\u001B[49m\n\u001B[1;32m     62\u001B[0m     images \u001B[38;5;241m=\u001B[39m \u001B[38;5;28mself\u001B[39m\u001B[38;5;241m.\u001B[39mshader(fragments, meshes_world, \u001B[38;5;241m*\u001B[39m\u001B[38;5;241m*\u001B[39mkwargs)\n\u001B[1;32m     64\u001B[0m     \u001B[38;5;28;01mreturn\u001B[39;00m images\n",
      "File \u001B[0;32m~/anaconda3/envs/nerf/lib/python3.12/site-packages/torch/nn/modules/module.py:1518\u001B[0m, in \u001B[0;36mModule._wrapped_call_impl\u001B[0;34m(self, *args, **kwargs)\u001B[0m\n\u001B[1;32m   1516\u001B[0m     \u001B[38;5;28;01mreturn\u001B[39;00m \u001B[38;5;28mself\u001B[39m\u001B[38;5;241m.\u001B[39m_compiled_call_impl(\u001B[38;5;241m*\u001B[39margs, \u001B[38;5;241m*\u001B[39m\u001B[38;5;241m*\u001B[39mkwargs)  \u001B[38;5;66;03m# type: ignore[misc]\u001B[39;00m\n\u001B[1;32m   1517\u001B[0m \u001B[38;5;28;01melse\u001B[39;00m:\n\u001B[0;32m-> 1518\u001B[0m     \u001B[38;5;28;01mreturn\u001B[39;00m \u001B[38;5;28;43mself\u001B[39;49m\u001B[38;5;241;43m.\u001B[39;49m\u001B[43m_call_impl\u001B[49m\u001B[43m(\u001B[49m\u001B[38;5;241;43m*\u001B[39;49m\u001B[43margs\u001B[49m\u001B[43m,\u001B[49m\u001B[43m \u001B[49m\u001B[38;5;241;43m*\u001B[39;49m\u001B[38;5;241;43m*\u001B[39;49m\u001B[43mkwargs\u001B[49m\u001B[43m)\u001B[49m\n",
      "File \u001B[0;32m~/anaconda3/envs/nerf/lib/python3.12/site-packages/torch/nn/modules/module.py:1527\u001B[0m, in \u001B[0;36mModule._call_impl\u001B[0;34m(self, *args, **kwargs)\u001B[0m\n\u001B[1;32m   1522\u001B[0m \u001B[38;5;66;03m# If we don't have any hooks, we want to skip the rest of the logic in\u001B[39;00m\n\u001B[1;32m   1523\u001B[0m \u001B[38;5;66;03m# this function, and just call forward.\u001B[39;00m\n\u001B[1;32m   1524\u001B[0m \u001B[38;5;28;01mif\u001B[39;00m \u001B[38;5;129;01mnot\u001B[39;00m (\u001B[38;5;28mself\u001B[39m\u001B[38;5;241m.\u001B[39m_backward_hooks \u001B[38;5;129;01mor\u001B[39;00m \u001B[38;5;28mself\u001B[39m\u001B[38;5;241m.\u001B[39m_backward_pre_hooks \u001B[38;5;129;01mor\u001B[39;00m \u001B[38;5;28mself\u001B[39m\u001B[38;5;241m.\u001B[39m_forward_hooks \u001B[38;5;129;01mor\u001B[39;00m \u001B[38;5;28mself\u001B[39m\u001B[38;5;241m.\u001B[39m_forward_pre_hooks\n\u001B[1;32m   1525\u001B[0m         \u001B[38;5;129;01mor\u001B[39;00m _global_backward_pre_hooks \u001B[38;5;129;01mor\u001B[39;00m _global_backward_hooks\n\u001B[1;32m   1526\u001B[0m         \u001B[38;5;129;01mor\u001B[39;00m _global_forward_hooks \u001B[38;5;129;01mor\u001B[39;00m _global_forward_pre_hooks):\n\u001B[0;32m-> 1527\u001B[0m     \u001B[38;5;28;01mreturn\u001B[39;00m \u001B[43mforward_call\u001B[49m\u001B[43m(\u001B[49m\u001B[38;5;241;43m*\u001B[39;49m\u001B[43margs\u001B[49m\u001B[43m,\u001B[49m\u001B[43m \u001B[49m\u001B[38;5;241;43m*\u001B[39;49m\u001B[38;5;241;43m*\u001B[39;49m\u001B[43mkwargs\u001B[49m\u001B[43m)\u001B[49m\n\u001B[1;32m   1529\u001B[0m \u001B[38;5;28;01mtry\u001B[39;00m:\n\u001B[1;32m   1530\u001B[0m     result \u001B[38;5;241m=\u001B[39m \u001B[38;5;28;01mNone\u001B[39;00m\n",
      "File \u001B[0;32m~/anaconda3/envs/nerf/lib/python3.12/site-packages/pytorch3d/renderer/mesh/rasterizer.py:224\u001B[0m, in \u001B[0;36mMeshRasterizer.forward\u001B[0;34m(self, meshes_world, **kwargs)\u001B[0m\n\u001B[1;32m    216\u001B[0m \u001B[38;5;28;01mdef\u001B[39;00m \u001B[38;5;21mforward\u001B[39m(\u001B[38;5;28mself\u001B[39m, meshes_world, \u001B[38;5;241m*\u001B[39m\u001B[38;5;241m*\u001B[39mkwargs) \u001B[38;5;241m-\u001B[39m\u001B[38;5;241m>\u001B[39m Fragments:\n\u001B[1;32m    217\u001B[0m \u001B[38;5;250m    \u001B[39m\u001B[38;5;124;03m\"\"\"\u001B[39;00m\n\u001B[1;32m    218\u001B[0m \u001B[38;5;124;03m    Args:\u001B[39;00m\n\u001B[1;32m    219\u001B[0m \u001B[38;5;124;03m        meshes_world: a Meshes object representing a batch of meshes with\u001B[39;00m\n\u001B[0;32m   (...)\u001B[0m\n\u001B[1;32m    222\u001B[0m \u001B[38;5;124;03m        Fragments: Rasterization outputs as a named tuple.\u001B[39;00m\n\u001B[1;32m    223\u001B[0m \u001B[38;5;124;03m    \"\"\"\u001B[39;00m\n\u001B[0;32m--> 224\u001B[0m     meshes_proj \u001B[38;5;241m=\u001B[39m \u001B[38;5;28;43mself\u001B[39;49m\u001B[38;5;241;43m.\u001B[39;49m\u001B[43mtransform\u001B[49m\u001B[43m(\u001B[49m\u001B[43mmeshes_world\u001B[49m\u001B[43m,\u001B[49m\u001B[43m \u001B[49m\u001B[38;5;241;43m*\u001B[39;49m\u001B[38;5;241;43m*\u001B[39;49m\u001B[43mkwargs\u001B[49m\u001B[43m)\u001B[49m\n\u001B[1;32m    225\u001B[0m     raster_settings \u001B[38;5;241m=\u001B[39m kwargs\u001B[38;5;241m.\u001B[39mget(\u001B[38;5;124m\"\u001B[39m\u001B[38;5;124mraster_settings\u001B[39m\u001B[38;5;124m\"\u001B[39m, \u001B[38;5;28mself\u001B[39m\u001B[38;5;241m.\u001B[39mraster_settings)\n\u001B[1;32m    227\u001B[0m     \u001B[38;5;66;03m# By default, turn on clip_barycentric_coords if blur_radius > 0.\u001B[39;00m\n\u001B[1;32m    228\u001B[0m     \u001B[38;5;66;03m# When blur_radius > 0, a face can be matched to a pixel that is outside the\u001B[39;00m\n\u001B[1;32m    229\u001B[0m     \u001B[38;5;66;03m# face, resulting in negative barycentric coordinates.\u001B[39;00m\n",
      "File \u001B[0;32m~/anaconda3/envs/nerf/lib/python3.12/site-packages/pytorch3d/renderer/mesh/rasterizer.py:190\u001B[0m, in \u001B[0;36mMeshRasterizer.transform\u001B[0;34m(self, meshes_world, **kwargs)\u001B[0m\n\u001B[1;32m    188\u001B[0m \u001B[38;5;28;01mif\u001B[39;00m n_cameras \u001B[38;5;241m!=\u001B[39m \u001B[38;5;241m1\u001B[39m \u001B[38;5;129;01mand\u001B[39;00m n_cameras \u001B[38;5;241m!=\u001B[39m \u001B[38;5;28mlen\u001B[39m(meshes_world):\n\u001B[1;32m    189\u001B[0m     msg \u001B[38;5;241m=\u001B[39m \u001B[38;5;124m\"\u001B[39m\u001B[38;5;124mWrong number (\u001B[39m\u001B[38;5;132;01m%r\u001B[39;00m\u001B[38;5;124m) of cameras for \u001B[39m\u001B[38;5;132;01m%r\u001B[39;00m\u001B[38;5;124m meshes\u001B[39m\u001B[38;5;124m\"\u001B[39m\n\u001B[0;32m--> 190\u001B[0m     \u001B[38;5;28;01mraise\u001B[39;00m \u001B[38;5;167;01mValueError\u001B[39;00m(msg \u001B[38;5;241m%\u001B[39m (n_cameras, \u001B[38;5;28mlen\u001B[39m(meshes_world)))\n\u001B[1;32m    192\u001B[0m verts_world \u001B[38;5;241m=\u001B[39m meshes_world\u001B[38;5;241m.\u001B[39mverts_padded()\n\u001B[1;32m    194\u001B[0m \u001B[38;5;66;03m# NOTE: Retaining view space z coordinate for now.\u001B[39;00m\n\u001B[1;32m    195\u001B[0m \u001B[38;5;66;03m# TODO: Revisit whether or not to transform z coordinate to [-1, 1] or\u001B[39;00m\n\u001B[1;32m    196\u001B[0m \u001B[38;5;66;03m# [0, 1] range.\u001B[39;00m\n",
      "\u001B[0;31mValueError\u001B[0m: Wrong number (9) of cameras for 1 meshes"
     ]
    }
   ],
   "source": [
    "images = silhouette_renderer(meshes_world=robot_mesh)"
   ],
   "metadata": {
    "collapsed": false
   }
  },
  {
   "cell_type": "markdown",
   "metadata": {
    "collapsed": false,
    "jupyter": {
     "outputs_hidden": false
    }
   },
   "source": [
    "### Render image"
   ]
  },
  {
   "cell_type": "code",
   "execution_count": 26,
   "outputs": [
    {
     "data": {
      "text/plain": "<Figure size 640x480 with 1 Axes>",
      "image/png": "[encoded data removed]"
     },
     "metadata": {},
     "output_type": "display_data"
    }
   ],
   "source": [
    "plt.imshow(images.squeeze().detach().cpu().numpy())\n",
    "plt.axis(\"off\")\n",
    "plt.show()"
   ],
   "metadata": {
    "collapsed": false
   }
  },
  {
   "cell_type": "markdown",
   "metadata": {
    "collapsed": false,
    "jupyter": {
     "outputs_hidden": false
    }
   },
   "source": []
  }
 ],
 "metadata": {
  "kernelspec": {
   "display_name": "Python 3 (ipykernel)",
   "language": "python",
   "name": "python3"
  },
  "language_info": {
   "codemirror_mode": {
    "name": "ipython",
    "version": 3
   },
   "file_extension": ".py",
   "mimetype": "text/x-python",
   "name": "python",
   "nbconvert_exporter": "python",
   "pygments_lexer": "ipython3",
   "version": "3.12.2"
  }
 },
 "nbformat": 4,
 "nbformat_minor": 4
}
